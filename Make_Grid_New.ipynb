{
 "cells": [
  {
   "cell_type": "code",
   "execution_count": null,
   "metadata": {},
   "outputs": [],
   "source": [
    "import geopandas as gpd\n",
    "from odc.geo import XY, BoundingBox\n",
    "from odc.geo.gridspec import GridSpec"
   ]
  },
  {
   "cell_type": "code",
   "execution_count": null,
   "metadata": {},
   "outputs": [],
   "source": [
    "# Create a gridspec\n",
    "pacific_epsg = \"EPSG:3832\"\n",
    "# The origin is in the projected CRS. This works for Landsat.\n",
    "pacific_gridspec = GridSpec(crs=pacific_epsg, tile_shape=(3200,3200), resolution=30, origin=XY(-3000000,-4000000))\n",
    "\n",
    "# This grid is for Sentinel-2 and has the same footprint\n",
    "# pacific_gridspec_s2 = GridSpec(crs=pacific_epsg, tile_shape=(9600,9600), resolution=10, origin=XY(-3000000,-4000000))"
   ]
  },
  {
   "cell_type": "code",
   "execution_count": null,
   "metadata": {},
   "outputs": [],
   "source": [
    "# Select relevant tiles and convert to Geopandas\n",
    "bounds = BoundingBox(120, -30, 280, 30, crs=\"EPSG:4326\").to_crs(pacific_epsg)\n",
    "geom = pacific_gridspec.geojson(bbox=bounds)\n",
    "\n",
    "for feature in geom['features']:\n",
    "    new_coords = []\n",
    "    for coordinate in feature['geometry']['coordinates']:\n",
    "        for coordinate_pair in coordinate:\n",
    "            if coordinate_pair[0] < 0:\n",
    "                coordinate_pair = (coordinate_pair[0] + 360, coordinate_pair[1])\n",
    "            new_coords.append(coordinate_pair)\n",
    "    feature['geometry']['coordinates'] = [new_coords]\n",
    "\n",
    "tiles = gpd.GeoDataFrame.from_features(geom, crs=\"EPSG:4326\")"
   ]
  },
  {
   "cell_type": "code",
   "execution_count": null,
   "metadata": {},
   "outputs": [],
   "source": [
    "# Get the Pacific admin boundaries\n",
    "# These need to be downloaded from ... can't remember where\n",
    "pacific_admin = gpd.read_file(\"pacific_admin.gpkg\")"
   ]
  },
  {
   "cell_type": "code",
   "execution_count": null,
   "metadata": {},
   "outputs": [],
   "source": [
    "# Select tiles that intersect with the Pacific admin boundaries\n",
    "tiles_projected = tiles.to_crs(pacific_epsg)\n",
    "admin_projected = pacific_admin.to_crs(pacific_epsg)\n",
    "admin_buffer_50k = gpd.GeoDataFrame(geometry=admin_projected.buffer(50_000), crs=pacific_epsg)\n",
    "intersected = gpd.sjoin(tiles_projected, admin_buffer_50k, how=\"inner\", predicate=\"intersects\")\n",
    "\n",
    "# Pick the first country name for each tile... one country wins, another is lost to time...\n",
    "intersected = intersected.groupby(\"idx\").first()"
   ]
  },
  {
   "cell_type": "code",
   "execution_count": null,
   "metadata": {},
   "outputs": [],
   "source": [
    "renamed = intersected.rename(columns={\"ISO2\": \"country_code\"})\n",
    "renamed[\"bbox\"] = renamed[\"geometry\"].apply(lambda x: \",\".join([f\"{b:6.0f}\" for b in x.bounds]))\n",
    "# Drop the geometry from renamed\n",
    "renamed = renamed.drop(columns=[\"geometry\"])\n",
    "\n",
    "joined = tiles.join(renamed, how=\"inner\", on=\"idx\")\n",
    "joined = joined.drop(columns=[\"index_right\"])\n",
    "joined = joined.rename(columns={\"idx\": \"tile_id\"})"
   ]
  },
  {
   "cell_type": "code",
   "execution_count": null,
   "metadata": {},
   "outputs": [],
   "source": [
    "joined.explore()"
   ]
  },
  {
   "cell_type": "code",
   "execution_count": null,
   "metadata": {},
   "outputs": [],
   "source": [
    "joined.to_file(\"grid_pacific.geojson\")"
   ]
  }
 ],
 "metadata": {
  "kernelspec": {
   "display_name": "Python 3",
   "language": "python",
   "name": "python3"
  },
  "language_info": {
   "codemirror_mode": {
    "name": "ipython",
    "version": 3
   },
   "file_extension": ".py",
   "mimetype": "text/x-python",
   "name": "python",
   "nbconvert_exporter": "python",
   "pygments_lexer": "ipython3",
   "version": "3.11.5"
  },
  "orig_nbformat": 4
 },
 "nbformat": 4,
 "nbformat_minor": 2
}
